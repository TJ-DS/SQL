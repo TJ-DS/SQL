{
 "cells": [
  {
   "cell_type": "markdown",
   "metadata": {},
   "source": [
    "# DVD Rental database:"
   ]
  },
  {
   "cell_type": "markdown",
   "metadata": {},
   "source": [
    "There are 15 tables .\n",
    "\n",
    "__actor__ – stores actors data including first name and last name.<br>\n",
    "__film__ – stores films data such as title, release year, length, rating, etc.<br>\n",
    "__film_actor__ – stores the relationships between films and actors.<br>\n",
    "__category__ – stores film’s categories data.<br>\n",
    "__film_category__- stores the relationships between films and categories.<br>\n",
    "__store__ – contains the store data including manager staff and address.<br>\n",
    "__inventory__ – stores inventory data.<br>\n",
    "__rental__ – stores rental data.<br>\n",
    "__payment__ – stores customer’s payments.<br>\n",
    "__staff__ – stores staff data.<br>\n",
    "__customer__– stores customers data.<br>\n",
    "__address__ – stores address data for staff and customers<br>\n",
    "__city__ – stores the city names.<br>\n",
    "__country__ – stores the country names.<br>\n"
   ]
  },
  {
   "cell_type": "code",
   "execution_count": 83,
   "metadata": {},
   "outputs": [],
   "source": [
    "import psycopg2\n",
    "import pandas as pd"
   ]
  },
  {
   "cell_type": "code",
   "execution_count": 69,
   "metadata": {},
   "outputs": [],
   "source": [
    "connection = psycopg2.connect(user = \"postgres\",\n",
    "                                  password = \"12345\",\n",
    "                                  host = \"localhost\",\n",
    "                                  database = \"med_rpr_stg\")"
   ]
  },
  {
   "cell_type": "code",
   "execution_count": 70,
   "metadata": {},
   "outputs": [
    {
     "name": "stdout",
     "output_type": "stream",
     "text": [
      "{'user': 'postgres', 'dbname': 'med_rpr_stg', 'host': 'localhost', 'port': '5432', 'tty': '', 'options': '', 'sslmode': 'prefer', 'sslcompression': '0', 'krbsrvname': 'postgres', 'target_session_attrs': 'any'} \n",
      "\n"
     ]
    }
   ],
   "source": [
    "cursor = connection.cursor()\n",
    "# Print PostgreSQL Connection properties\n",
    "print ( connection.get_dsn_parameters(),\"\\n\")"
   ]
  },
  {
   "cell_type": "markdown",
   "metadata": {},
   "source": [
    "## Business Question"
   ]
  },
  {
   "cell_type": "markdown",
   "metadata": {},
   "source": [
    "#### 1) What are total sales for top and least rented( in _ demand ) genres?"
   ]
  },
  {
   "cell_type": "code",
   "execution_count": 87,
   "metadata": {},
   "outputs": [
    {
     "name": "stdout",
     "output_type": "stream",
     "text": [
      "              0     1        2\n",
      "0        Sports  1179  4892.19\n",
      "1     Animation  1166  4245.31\n",
      "2        Action  1112  3951.84\n",
      "3        Sci-Fi  1101  4336.01\n",
      "4        Family  1096  3830.15\n",
      "5         Drama  1060  4118.46\n",
      "6   Documentary  1050  3749.65\n",
      "7       Foreign  1033  3934.47\n",
      "8         Games   969  3922.18\n",
      "9      Children   945  3309.39\n",
      "10       Comedy   941  4002.48\n",
      "11          New   940  3966.38\n",
      "12     Classics   939  3353.38\n",
      "13       Horror   846  3401.27\n",
      "14       Travel   837  3227.36\n",
      "15        Music   830  3071.52\n"
     ]
    }
   ],
   "source": [
    "# Print PostgreSQL version\n",
    "select_Business_1 = cursor.execute('''select table1.genre, table1.total_rent_demand, table2.total_sales\n",
    "                                    from \n",
    "                                    (select c.name AS Genre, count(cu.customer_id) AS Total_rent_demand\n",
    "                                    FROM category c \n",
    "                                    JOIN film_category fc\n",
    "                                    on c.category_id = fc.category_id\n",
    "                                    JOIN film f\n",
    "                                    on f.film_id = fc.film_id\n",
    "                                    JOIN inventory i\n",
    "                                    on i.film_id = fc.film_id\n",
    "                                    JOIN rental r\n",
    "                                    on r.inventory_id = i.inventory_id\n",
    "                                    JOIN customer cu\n",
    "                                    on cu.customer_id = r.customer_id\n",
    "                                    GROUP BY 1\n",
    "                                    ORDER BY 2 DESC) table1 \n",
    "                                    join (\n",
    "                                    select c.name AS Genre, SUM(p.amount) AS total_sales\n",
    "                                    FROM category c \n",
    "                                    JOIN film_category fc\n",
    "                                    on c.category_id = fc.category_id\n",
    "                                    JOIN film f\n",
    "                                    on f.film_id = fc.film_id\n",
    "                                    JOIN inventory i\n",
    "                                    on i.film_id = fc.film_id\n",
    "                                    JOIN rental r\n",
    "                                    on r.inventory_id = i.inventory_id\n",
    "                                    JOIN payment p\n",
    "                                    on p.rental_id = r.rental_id\n",
    "                                    GROUP BY 1\n",
    "                                    ORDER BY 2 DESC) table2\n",
    "                                    on  table1.genre = table2.genre;''')\n",
    "\n",
    "\n",
    "Business_1 = cursor.fetchall() \n",
    "\n",
    "dfObj = pd.DataFrame(Business_1) \n",
    "print(dfObj)"
   ]
  },
  {
   "cell_type": "markdown",
   "metadata": {},
   "source": [
    "#### 2) Distinct users have rented each genre?"
   ]
  },
  {
   "cell_type": "code",
   "execution_count": 88,
   "metadata": {},
   "outputs": [
    {
     "name": "stdout",
     "output_type": "stream",
     "text": [
      "              0    1\n",
      "0        Sports  519\n",
      "1        Action  510\n",
      "2        Sci-Fi  507\n",
      "3        Family  501\n",
      "4         Drama  501\n",
      "5     Animation  500\n",
      "6        Comedy  495\n",
      "7       Foreign  493\n",
      "8   Documentary  483\n",
      "9      Children  482\n",
      "10        Games  474\n",
      "11          New  468\n",
      "12     Classics  468\n",
      "13       Horror  451\n",
      "14        Music  447\n",
      "15       Travel  442\n"
     ]
    }
   ],
   "source": [
    "# Print PostgreSQL version\n",
    "select_Business_2 = cursor.execute('''SELECT c.name AS Genre, count(DISTINCT cu.customer_id) AS Total_rent_demand\n",
    "                    FROM category c \n",
    "                    JOIN film_category fc\n",
    "                    on c.category_id = fc.category_id\n",
    "                    JOIN film f\n",
    "                    on f.film_id = fc.film_id\n",
    "                    JOIN inventory i\n",
    "                    on i.film_id = fc.film_id\n",
    "                    JOIN rental r\n",
    "                    on r.inventory_id = i.inventory_id\n",
    "                    JOIN customer cu\n",
    "                    on cu.customer_id = r.customer_id\n",
    "                    GROUP BY 1\n",
    "                    ORDER BY 2 DESC;''')\n",
    "\n",
    "\n",
    "Business_2 = cursor.fetchall() \n",
    "\n",
    "dfObj = pd.DataFrame(Business_2) \n",
    "print(dfObj)"
   ]
  },
  {
   "cell_type": "markdown",
   "metadata": {},
   "source": [
    "#### 3) Avg. Rental rate for each genre ?"
   ]
  },
  {
   "cell_type": "code",
   "execution_count": 89,
   "metadata": {},
   "outputs": [
    {
     "name": "stdout",
     "output_type": "stream",
     "text": [
      "              0     1\n",
      "0         Games  3.25\n",
      "1        Travel  3.24\n",
      "2        Sci-Fi  3.22\n",
      "3        Comedy  3.16\n",
      "4        Sports  3.13\n",
      "5           New  3.12\n",
      "6       Foreign  3.10\n",
      "7        Horror  3.03\n",
      "8         Drama  3.02\n",
      "9         Music  2.95\n",
      "10     Children  2.89\n",
      "11    Animation  2.81\n",
      "12       Family  2.76\n",
      "13     Classics  2.74\n",
      "14  Documentary  2.67\n",
      "15       Action  2.65\n"
     ]
    }
   ],
   "source": [
    "# Print PostgreSQL version\n",
    "select_Business_3 = cursor.execute('''SELECT c.name AS genre, ROUND(AVG(f.rental_rate),2) AS Average_rental_rate\n",
    "                            FROM category c \n",
    "                            JOIN film_category fc\n",
    "                            on c.category_id = fc.category_id\n",
    "                            JOIN film f\n",
    "                            on f.film_id = fc.film_id\n",
    "                            GROUP BY 1\n",
    "                            ORDER BY 2 DESC;''')\n",
    "\n",
    "\n",
    "Business_3 = cursor.fetchall() \n",
    "\n",
    "dfObj = pd.DataFrame(Business_3) \n",
    "print(dfObj)"
   ]
  },
  {
   "cell_type": "markdown",
   "metadata": {},
   "source": [
    "#### 4) In which countries does Rent A Film have a presence and what is the customer base in each country? What are the total sales in each country?"
   ]
  },
  {
   "cell_type": "code",
   "execution_count": 90,
   "metadata": {},
   "outputs": [
    {
     "name": "stdout",
     "output_type": "stream",
     "text": [
      "                                    0   1        2\n",
      "0                               India  60  6034.78\n",
      "1                               China  53  5251.03\n",
      "2                       United States  36  3685.31\n",
      "3                               Japan  31  3122.51\n",
      "4                              Mexico  30  2984.82\n",
      "5                              Brazil  28  2919.19\n",
      "6                  Russian Federation  28  2765.62\n",
      "7                         Philippines  20  2219.70\n",
      "8                              Turkey  15  1498.49\n",
      "9                           Indonesia  14  1352.69\n",
      "10                            Nigeria  13  1314.92\n",
      "11                          Argentina  13  1298.80\n",
      "12                       South Africa  11  1069.46\n",
      "13                             Taiwan  10  1155.10\n",
      "14                     United Kingdom   9   850.96\n",
      "15                               Iran   8   877.96\n",
      "16                             Poland   8   786.16\n",
      "17                              Italy   7   753.26\n",
      "18                            Germany   7   741.24\n",
      "19                          Venezuela   7   632.43\n",
      "20                              Egypt   6   659.48\n",
      "21                            Ukraine   6   675.53\n",
      "22                            Vietnam   6   676.45\n",
      "23                           Colombia   6   661.54\n",
      "24                              Spain   5   513.80\n",
      "25                             Canada   5   559.70\n",
      "26                       Saudi Arabia   5   452.94\n",
      "27                        Netherlands   5   557.73\n",
      "28                           Pakistan   5   473.84\n",
      "29                        South Korea   5   527.77\n",
      "..                                ...  ..      ...\n",
      "78                            Finland   1    78.79\n",
      "79                      French Guiana   1    97.80\n",
      "80                             Gambia   1   114.73\n",
      "81                          Greenland   1   119.72\n",
      "82      Holy See (Vatican City State)   1   146.68\n",
      "83                          Hong Kong   1   104.76\n",
      "84                            Hungary   1   111.71\n",
      "85                               Iraq   1   111.73\n",
      "86                             Kuwait   1   106.75\n",
      "87                      Liechtenstein   1    99.74\n",
      "88                          Lithuania   1    63.78\n",
      "89                         Madagascar   1    92.79\n",
      "90                             Malawi   1   121.73\n",
      "91                            Moldova   1   127.66\n",
      "92                              Nauru   1   143.70\n",
      "93                              Nepal   1    93.83\n",
      "94                        New Zealand   1    85.77\n",
      "95                        North Korea   1   107.71\n",
      "96                             Runion   1   211.55\n",
      "97   Saint Vincent and the Grenadines   1    64.82\n",
      "98                            Senegal   1    95.76\n",
      "99                           Slovakia   1    80.77\n",
      "100                         Sri Lanka   1   103.73\n",
      "101                            Sweden   1   139.67\n",
      "102                             Tonga   1    64.84\n",
      "103                           Tunisia   1    73.78\n",
      "104                      Turkmenistan   1   126.74\n",
      "105                            Tuvalu   1    93.78\n",
      "106              Virgin Islands, U.S.   1   121.69\n",
      "107                       Afghanistan   1    67.82\n",
      "\n",
      "[108 rows x 3 columns]\n"
     ]
    }
   ],
   "source": [
    "# Print PostgreSQL version\n",
    "select_Business_4 = cursor.execute('''SELECT co.country, count(DISTINCT cu.customer_id) AS customer_base, SUM(amount) AS total_sales\n",
    "                                    FROM country co \n",
    "                                    JOIN city ci\n",
    "                                    ON co.country_id = ci.country_id\n",
    "                                    JOIN address a \n",
    "                                    on ci.city_id = a.city_id\n",
    "                                    JOIN customer cu\n",
    "                                    on cu.address_id = a.address_id\n",
    "                                    JOIN payment p\n",
    "                                    on p.customer_id = cu.customer_id\n",
    "                                    GROUP BY 1\n",
    "                                    ORDER BY 2 DESC;''')\n",
    "\n",
    "\n",
    "Business_4 = cursor.fetchall() \n",
    "\n",
    "dfObj = pd.DataFrame(Business_4) \n",
    "print(dfObj)"
   ]
  },
  {
   "cell_type": "markdown",
   "metadata": {},
   "source": [
    "#### 5) The top 5 customers per total sales and can we get their details just in case Rent A Film wants to reward them?"
   ]
  },
  {
   "cell_type": "code",
   "execution_count": 94,
   "metadata": {},
   "outputs": [
    {
     "name": "stdout",
     "output_type": "stream",
     "text": [
      "                0                                  1                      2  \\\n",
      "0    Eleanor Hunt    eleanor.hunt@sakilacustomer.org         1952 Pune Lane   \n",
      "1       Karl Seal       karl.seal@sakilacustomer.org       1427 Tabuk Place   \n",
      "2   Marion Snyder   marion.snyder@sakilacustomer.org  1891 Rizhao Boulevard   \n",
      "3  Rhonda Kennedy  rhonda.kennedy@sakilacustomer.org      1749 Daxian Place   \n",
      "4      Clara Shaw      clara.shaw@sakilacustomer.org    1027 Songkhla Manor   \n",
      "\n",
      "              3                    4              5       6  \n",
      "0  354615066969          Saint-Denis         Runion  211.55  \n",
      "1  214756839122           Cape Coral  United States  208.58  \n",
      "2  391065549876  Santa Brbara dOeste         Brazil  194.61  \n",
      "3  963369996279            Apeldoorn    Netherlands  191.62  \n",
      "4  563660187896            Molodetno        Belarus  189.60  \n"
     ]
    }
   ],
   "source": [
    "# Print PostgreSQL version\n",
    "select_Business_5 = cursor.execute('''SELECT full_name, email, address, phone, city, country, sum(amount) AS total_purchase_in_currency\n",
    "                                    FROM (SELECT *, first_name || ' ' || last_name AS full_name FROM customer) t1\n",
    "                                    JOIN address a\n",
    "                                    ON t1.address_id = a.address_id\n",
    "                                    JOIN city ci\n",
    "                                    on ci.city_id = a.city_id\n",
    "                                    JOIN country co\n",
    "                                    ON co.country_id = ci.country_id\n",
    "                                    JOIN payment p\n",
    "                                    on p.customer_id = t1.customer_id\n",
    "                                    GROUP BY 1,2,3,4,5,6\n",
    "                                    ORDER BY 7 DESC\n",
    "                                    LIMIT 5;''')\n",
    "\n",
    "\n",
    "Business_5 = cursor.fetchall() \n",
    "\n",
    "dfObj = pd.DataFrame(Business_5) \n",
    "print(dfObj)"
   ]
  },
  {
   "cell_type": "code",
   "execution_count": null,
   "metadata": {},
   "outputs": [],
   "source": []
  }
 ],
 "metadata": {
  "kernelspec": {
   "display_name": "Python 3",
   "language": "python",
   "name": "python3"
  },
  "language_info": {
   "codemirror_mode": {
    "name": "ipython",
    "version": 3
   },
   "file_extension": ".py",
   "mimetype": "text/x-python",
   "name": "python",
   "nbconvert_exporter": "python",
   "pygments_lexer": "ipython3",
   "version": "3.6.4"
  }
 },
 "nbformat": 4,
 "nbformat_minor": 2
}
