{
 "cells": [
  {
   "cell_type": "markdown",
   "metadata": {},
   "source": [
    "# Plan and design a database\n",
    "\n",
    "First two project we learned how to be consumers of data with the SELECT statement. We have done analysis operations that read data and transform it in interesting ways, but none of this physically changes the data in the tables. A SELECT statement is a read-only operation. Sometimes, though, we will want to CREATE new tables, as well as INSERT, UPDATE, and DELETE records. \n",
    "\n",
    "## Design questions\n",
    "\n",
    "- What are the business requirements?\n",
    "\n",
    "- What tables will I need to fulfill those requirements?\n",
    "\n",
    "- What columns will each table contain?\n",
    "\n",
    "- How will the tables be normalized?\n",
    "\n",
    "- What will their parent/child relationships be?\n",
    "\n",
    "\n",
    "## Data questions\n",
    "- Where will the data come from?\n",
    "\n",
    "- How much data will be populated into these tables?\n",
    "\n",
    "- Who/what will populate the data into these tables?\n",
    "\n",
    "- Do we need processes to automatically populate the tables?\n",
    "\n",
    "\n",
    "## Security questions\n",
    "- Who should have access to this database?\n",
    "\n",
    "- Who should have access to which tables? Read-only access? Write access?\n",
    "\n",
    "- Is this database critical to business operations?\n",
    "\n",
    "- What backup plans do we have in the event of disaster/failure?\n",
    "\n",
    "- Should changes to tables be logged?\n",
    "\n",
    "- If the database is used for websites or web applications, is it secure?"
   ]
  },
  {
   "cell_type": "markdown",
   "metadata": {},
   "source": [
    "![SQL_Project_Third_1.png](images\\SQL_Project_Third_1.png)"
   ]
  },
  {
   "cell_type": "markdown",
   "metadata": {},
   "source": [
    "### ATTENDEE\n",
    "\n",
    " Each attendee's ID, name, phone number, email, and VIP status will need to be tracked.\n",
    "\n",
    "### COMPANY\n",
    "\n",
    "The company ID, company name, company description, and primary contact (who should be listed as an attendee) for each must be tracked\n",
    "\n",
    "### PRESENTATION\n",
    "\n",
    "The company leading the presentation as well as a room number must also be booked for each presentation slot:\n",
    "    \n",
    "### ROOM \n",
    "\n",
    "There will be rooms available for the presentations, each with a room ID number, a floor number, and a seating capacity\n",
    "\n",
    "### PRESENTATION_ATTENDANCE\n",
    "\n",
    "f attendees are interested in hearing a company’s presentation, they can acquire a ticket (with a ticket ID) and be allowed in. This will help keep track of who attended what presentations. To implement this, the PRESENTATION_ATTENDANCE table will track the ticket IDs and pair the presentations with the attendees through their respective IDs to show who was where:\n",
    "\n",
    "# Creating a New Database"
   ]
  },
  {
   "cell_type": "code",
   "execution_count": 11,
   "metadata": {},
   "outputs": [
    {
     "name": "stdout",
     "output_type": "stream",
     "text": [
      "{'user': 'postgres', 'dbname': 'med_rpr_stg', 'host': 'localhost', 'port': '5432', 'tty': '', 'options': '', 'sslmode': 'prefer', 'sslcompression': '0', 'krbsrvname': 'postgres', 'target_session_attrs': 'any'} \n",
      "\n"
     ]
    }
   ],
   "source": [
    "import psycopg2\n",
    "import pandas as pd\n",
    "connection = psycopg2.connect(user = \"postgres\",\n",
    "                                  password = \"12345\",\n",
    "                                  host = \"localhost\",\n",
    "                                  database = \"med_rpr_stg\")\n",
    "cursor = connection.cursor()\n",
    "# Print PostgreSQL Connection properties\n",
    "print ( connection.get_dsn_parameters(),\"\\n\")"
   ]
  },
  {
   "cell_type": "code",
   "execution_count": 12,
   "metadata": {},
   "outputs": [],
   "source": [
    "# Print PostgreSQL version\n",
    "\n",
    "\n",
    "CREATE_TABLE_COMPANY  =\"\"\"\n",
    "CREATE TABLE COMPANY (\n",
    "    COMPANY_ID INTEGER PRIMARY KEY ,\n",
    "    NAME VARCHAR(30) NOT NULL,\n",
    "    DESCRIPTION VARCHAR(60),\n",
    "    PRIMARY_CONTACT_ID INTEGER NOT NULL\n",
    ");\n",
    "\"\"\"\n",
    "\n",
    "\n",
    "CREATE_TABLE_ROOM  =\"\"\"\n",
    "CREATE TABLE ROOM (\n",
    "    ROOM_ID       INTEGER PRIMARY KEY ,\n",
    "    FLOOR_NUMBER  INTEGER NOT NULL,\n",
    "    SEAT_CAPACITY INTEGER NOT NULL\n",
    ");\n",
    "\"\"\"\n",
    "\n",
    "\n",
    "\n",
    "CREATE_TABLE_PRESENTATION  =\"\"\"\n",
    "CREATE TABLE PRESENTATION (\n",
    "    PRESENTATION_ID   INTEGER PRIMARY KEY ,\n",
    "    BOOKED_COMPANY_ID INTEGER NOT NULL,\n",
    "    BOOKED_ROOM_ID    INTEGER NOT NULL,\n",
    "    START_TIME        TIME,\n",
    "    END_TIME          TIME\n",
    ");\n",
    "\"\"\"\n",
    "\n",
    "\n",
    "\n",
    "CREATE_TABLE_ATTENDEE  =\"\"\"\n",
    "CREATE TABLE ATTENDEE (\n",
    "    ATTENDEE_ID INTEGER      PRIMARY KEY ,\n",
    "    FIRST_NAME  VARCHAR (30) NOT NULL,\n",
    "    LAST_NAME   VARCHAR (30) NOT NULL,\n",
    "    PHONE       INTEGER,\n",
    "    EMAIL       VARCHAR (30),\n",
    "    VIP         INTEGER\n",
    ");\n",
    "\"\"\"\n",
    "\n",
    "\n",
    "\n",
    "CREATE_TABLE_PRESENTATION_ATTENDANCE  =\"\"\"\n",
    "CREATE TABLE PRESENTATION_ATTENDANCE (\n",
    "    TICKET_ID       INTEGER PRIMARY KEY ,\n",
    "    PRESENTATION_ID INTEGER,\n",
    "    ATTENDEE_ID     INTEGER\n",
    ");\n",
    "\"\"\"\n",
    "\n",
    "\n",
    "\n",
    "\n",
    "select_Business_1 = cursor.execute(CREATE_TABLE_COMPANY)\n",
    "select_Business_1 = cursor.execute(CREATE_TABLE_ROOM)\n",
    "select_Business_1 = cursor.execute(CREATE_TABLE_PRESENTATION)\n",
    "select_Business_1 = cursor.execute(CREATE_TABLE_ATTENDEE)\n",
    "select_Business_1 = cursor.execute(CREATE_TABLE_PRESENTATION_ATTENDANCE)\n",
    "\n",
    "\n",
    "connection.commit()"
   ]
  },
  {
   "cell_type": "markdown",
   "metadata": {},
   "source": [
    "\n",
    "![SQL_Project_Third_2.png](images\\SQL_Project_Third_2.png)\n",
    "\n",
    "\n",
    "\n",
    "\n"
   ]
  },
  {
   "cell_type": "code",
   "execution_count": null,
   "metadata": {},
   "outputs": [],
   "source": []
  }
 ],
 "metadata": {
  "kernelspec": {
   "display_name": "Python 3",
   "language": "python",
   "name": "python3"
  },
  "language_info": {
   "codemirror_mode": {
    "name": "ipython",
    "version": 3
   },
   "file_extension": ".py",
   "mimetype": "text/x-python",
   "name": "python",
   "nbconvert_exporter": "python",
   "pygments_lexer": "ipython3",
   "version": "3.6.4"
  }
 },
 "nbformat": 4,
 "nbformat_minor": 2
}
