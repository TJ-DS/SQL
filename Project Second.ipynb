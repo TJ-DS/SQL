{
 "cells": [
  {
   "cell_type": "markdown",
   "metadata": {},
   "source": [
    "## Storm Data\n",
    "\n",
    "\n",
    "Recently, the International Hurricane Watchgroup (IHW) has been asked to update their analysis tools. Because of the increase in public awareness of hurricanes, they are required to be more diligient with the analysis of historical hurricane data they share across the organization. They have asked you, someone with experience in databases, to help work with their team to productionize their services.\n",
    "\n",
    "\n",
    "\n",
    "Data Dictionary:\n",
    "\n",
    "    fid - ID for the row\n",
    "    year - Recorded year\n",
    "    month - Recorded month\n",
    "    day - Recorded date\n",
    "    ad_time - Recorded time in UTC\n",
    "    btid - Hurricane ID\n",
    "    name - Name of the hurricane\n",
    "    lat - Latitude of the recorded location\n",
    "    long - Longitude of the recorded location\n",
    "    wind_kts - Wind speed in knots per second\n",
    "    pressure - Atmospheric pressure of the hurricane\n",
    "    cat - Hurricane category\n",
    "    basin - The basin the hurricane is located\n",
    "    shape_leng - Hurricane shape length"
   ]
  },
  {
   "cell_type": "markdown",
   "metadata": {},
   "source": [
    "### AIM\n",
    "\n",
    "** 1) Records clenaing.<br>\n",
    "** 2) Clean records store into csv files.<br>\n",
    "** 3) Connection with PostgreSQL. <br>\n",
    "** 4) Create table in PostgreSQL. <br>\n",
    "** 5) Insert records from clean CSV files.<br>\n",
    "** 6) Read records.<br>\n",
    "   7) Update records.<br>"
   ]
  },
  {
   "cell_type": "code",
   "execution_count": null,
   "metadata": {},
   "outputs": [],
   "source": []
  },
  {
   "cell_type": "code",
   "execution_count": 1,
   "metadata": {},
   "outputs": [],
   "source": [
    "import pandas as pd"
   ]
  },
  {
   "cell_type": "code",
   "execution_count": 3,
   "metadata": {},
   "outputs": [
    {
     "data": {
      "text/html": [
       "<div>\n",
       "<style scoped>\n",
       "    .dataframe tbody tr th:only-of-type {\n",
       "        vertical-align: middle;\n",
       "    }\n",
       "\n",
       "    .dataframe tbody tr th {\n",
       "        vertical-align: top;\n",
       "    }\n",
       "\n",
       "    .dataframe thead th {\n",
       "        text-align: right;\n",
       "    }\n",
       "</style>\n",
       "<table border=\"1\" class=\"dataframe\">\n",
       "  <thead>\n",
       "    <tr style=\"text-align: right;\">\n",
       "      <th></th>\n",
       "      <th>FID</th>\n",
       "      <th>YEAR</th>\n",
       "      <th>MONTH</th>\n",
       "      <th>DAY</th>\n",
       "      <th>AD_TIME</th>\n",
       "      <th>BTID</th>\n",
       "      <th>NAME</th>\n",
       "      <th>LAT</th>\n",
       "      <th>LONG</th>\n",
       "      <th>WIND_KTS</th>\n",
       "      <th>PRESSURE</th>\n",
       "      <th>CAT</th>\n",
       "      <th>BASIN</th>\n",
       "      <th>Shape_Leng</th>\n",
       "    </tr>\n",
       "  </thead>\n",
       "  <tbody>\n",
       "    <tr>\n",
       "      <th>0</th>\n",
       "      <td>2001</td>\n",
       "      <td>1957</td>\n",
       "      <td>8</td>\n",
       "      <td>8</td>\n",
       "      <td>1800Z</td>\n",
       "      <td>63</td>\n",
       "      <td>NOTNAMED</td>\n",
       "      <td>22.5</td>\n",
       "      <td>-140.0</td>\n",
       "      <td>50</td>\n",
       "      <td>0</td>\n",
       "      <td>TS</td>\n",
       "      <td>Eastern Pacific</td>\n",
       "      <td>1.140175</td>\n",
       "    </tr>\n",
       "    <tr>\n",
       "      <th>1</th>\n",
       "      <td>2002</td>\n",
       "      <td>1961</td>\n",
       "      <td>10</td>\n",
       "      <td>3</td>\n",
       "      <td>1200Z</td>\n",
       "      <td>116</td>\n",
       "      <td>PAULINE</td>\n",
       "      <td>22.1</td>\n",
       "      <td>-140.2</td>\n",
       "      <td>45</td>\n",
       "      <td>0</td>\n",
       "      <td>TS</td>\n",
       "      <td>Eastern Pacific</td>\n",
       "      <td>1.166190</td>\n",
       "    </tr>\n",
       "    <tr>\n",
       "      <th>2</th>\n",
       "      <td>2003</td>\n",
       "      <td>1962</td>\n",
       "      <td>8</td>\n",
       "      <td>29</td>\n",
       "      <td>0600Z</td>\n",
       "      <td>124</td>\n",
       "      <td>C</td>\n",
       "      <td>18.0</td>\n",
       "      <td>-140.0</td>\n",
       "      <td>45</td>\n",
       "      <td>0</td>\n",
       "      <td>TS</td>\n",
       "      <td>Eastern Pacific</td>\n",
       "      <td>2.102380</td>\n",
       "    </tr>\n",
       "    <tr>\n",
       "      <th>3</th>\n",
       "      <td>2004</td>\n",
       "      <td>1967</td>\n",
       "      <td>7</td>\n",
       "      <td>14</td>\n",
       "      <td>0600Z</td>\n",
       "      <td>168</td>\n",
       "      <td>DENISE</td>\n",
       "      <td>16.6</td>\n",
       "      <td>-139.5</td>\n",
       "      <td>45</td>\n",
       "      <td>0</td>\n",
       "      <td>TS</td>\n",
       "      <td>Eastern Pacific</td>\n",
       "      <td>2.121320</td>\n",
       "    </tr>\n",
       "    <tr>\n",
       "      <th>4</th>\n",
       "      <td>2005</td>\n",
       "      <td>1972</td>\n",
       "      <td>8</td>\n",
       "      <td>16</td>\n",
       "      <td>1200Z</td>\n",
       "      <td>251</td>\n",
       "      <td>DIANA</td>\n",
       "      <td>18.5</td>\n",
       "      <td>-139.8</td>\n",
       "      <td>70</td>\n",
       "      <td>0</td>\n",
       "      <td>H1</td>\n",
       "      <td>Eastern Pacific</td>\n",
       "      <td>1.702939</td>\n",
       "    </tr>\n",
       "  </tbody>\n",
       "</table>\n",
       "</div>"
      ],
      "text/plain": [
       "    FID  YEAR  MONTH  DAY AD_TIME  BTID      NAME   LAT   LONG  WIND_KTS  \\\n",
       "0  2001  1957      8    8   1800Z    63  NOTNAMED  22.5 -140.0        50   \n",
       "1  2002  1961     10    3   1200Z   116   PAULINE  22.1 -140.2        45   \n",
       "2  2003  1962      8   29   0600Z   124         C  18.0 -140.0        45   \n",
       "3  2004  1967      7   14   0600Z   168    DENISE  16.6 -139.5        45   \n",
       "4  2005  1972      8   16   1200Z   251     DIANA  18.5 -139.8        70   \n",
       "\n",
       "   PRESSURE CAT            BASIN  Shape_Leng  \n",
       "0         0  TS  Eastern Pacific    1.140175  \n",
       "1         0  TS  Eastern Pacific    1.166190  \n",
       "2         0  TS  Eastern Pacific    2.102380  \n",
       "3         0  TS  Eastern Pacific    2.121320  \n",
       "4         0  H1  Eastern Pacific    1.702939  "
      ]
     },
     "execution_count": 3,
     "metadata": {},
     "output_type": "execute_result"
    }
   ],
   "source": [
    "df = pd.read_csv(\"DataSet/storm_data.csv\")\n",
    "df.head()"
   ]
  },
  {
   "cell_type": "code",
   "execution_count": 4,
   "metadata": {},
   "outputs": [
    {
     "name": "stdout",
     "output_type": "stream",
     "text": [
      "<class 'pandas.core.frame.DataFrame'>\n",
      "RangeIndex: 59228 entries, 0 to 59227\n",
      "Data columns (total 14 columns):\n",
      "FID           59228 non-null int64\n",
      "YEAR          59228 non-null int64\n",
      "MONTH         59228 non-null int64\n",
      "DAY           59228 non-null int64\n",
      "AD_TIME       59228 non-null object\n",
      "BTID          59228 non-null int64\n",
      "NAME          59228 non-null object\n",
      "LAT           59228 non-null float64\n",
      "LONG          59228 non-null float64\n",
      "WIND_KTS      59228 non-null int64\n",
      "PRESSURE      59228 non-null int64\n",
      "CAT           59228 non-null object\n",
      "BASIN         59228 non-null object\n",
      "Shape_Leng    59228 non-null float64\n",
      "dtypes: float64(3), int64(7), object(4)\n",
      "memory usage: 6.3+ MB\n"
     ]
    }
   ],
   "source": [
    "df.info()"
   ]
  },
  {
   "cell_type": "code",
   "execution_count": 5,
   "metadata": {},
   "outputs": [
    {
     "data": {
      "text/html": [
       "<div>\n",
       "<style scoped>\n",
       "    .dataframe tbody tr th:only-of-type {\n",
       "        vertical-align: middle;\n",
       "    }\n",
       "\n",
       "    .dataframe tbody tr th {\n",
       "        vertical-align: top;\n",
       "    }\n",
       "\n",
       "    .dataframe thead th {\n",
       "        text-align: right;\n",
       "    }\n",
       "</style>\n",
       "<table border=\"1\" class=\"dataframe\">\n",
       "  <thead>\n",
       "    <tr style=\"text-align: right;\">\n",
       "      <th></th>\n",
       "      <th>FID</th>\n",
       "      <th>YEAR</th>\n",
       "      <th>MONTH</th>\n",
       "      <th>DAY</th>\n",
       "      <th>BTID</th>\n",
       "      <th>LAT</th>\n",
       "      <th>LONG</th>\n",
       "      <th>WIND_KTS</th>\n",
       "      <th>PRESSURE</th>\n",
       "      <th>Shape_Leng</th>\n",
       "    </tr>\n",
       "  </thead>\n",
       "  <tbody>\n",
       "    <tr>\n",
       "      <th>count</th>\n",
       "      <td>59228.000000</td>\n",
       "      <td>59228.000000</td>\n",
       "      <td>59228.000000</td>\n",
       "      <td>59228.000000</td>\n",
       "      <td>59228.000000</td>\n",
       "      <td>59228.000000</td>\n",
       "      <td>59228.000000</td>\n",
       "      <td>59228.000000</td>\n",
       "      <td>59228.000000</td>\n",
       "      <td>59228.000000</td>\n",
       "    </tr>\n",
       "    <tr>\n",
       "      <th>mean</th>\n",
       "      <td>29614.500000</td>\n",
       "      <td>1957.194874</td>\n",
       "      <td>8.540521</td>\n",
       "      <td>15.867326</td>\n",
       "      <td>648.398899</td>\n",
       "      <td>23.526400</td>\n",
       "      <td>-83.196863</td>\n",
       "      <td>54.726802</td>\n",
       "      <td>372.336800</td>\n",
       "      <td>1.201987</td>\n",
       "    </tr>\n",
       "    <tr>\n",
       "      <th>std</th>\n",
       "      <td>17097.795209</td>\n",
       "      <td>41.665792</td>\n",
       "      <td>1.364174</td>\n",
       "      <td>8.793432</td>\n",
       "      <td>372.376803</td>\n",
       "      <td>9.464955</td>\n",
       "      <td>37.282152</td>\n",
       "      <td>25.133577</td>\n",
       "      <td>480.562974</td>\n",
       "      <td>0.834497</td>\n",
       "    </tr>\n",
       "    <tr>\n",
       "      <th>min</th>\n",
       "      <td>1.000000</td>\n",
       "      <td>1851.000000</td>\n",
       "      <td>1.000000</td>\n",
       "      <td>1.000000</td>\n",
       "      <td>1.000000</td>\n",
       "      <td>4.200000</td>\n",
       "      <td>-180.000000</td>\n",
       "      <td>10.000000</td>\n",
       "      <td>0.000000</td>\n",
       "      <td>0.000000</td>\n",
       "    </tr>\n",
       "    <tr>\n",
       "      <th>25%</th>\n",
       "      <td>14807.750000</td>\n",
       "      <td>1928.000000</td>\n",
       "      <td>8.000000</td>\n",
       "      <td>8.000000</td>\n",
       "      <td>344.000000</td>\n",
       "      <td>16.100000</td>\n",
       "      <td>-108.500000</td>\n",
       "      <td>35.000000</td>\n",
       "      <td>0.000000</td>\n",
       "      <td>0.707107</td>\n",
       "    </tr>\n",
       "    <tr>\n",
       "      <th>50%</th>\n",
       "      <td>29614.500000</td>\n",
       "      <td>1970.000000</td>\n",
       "      <td>9.000000</td>\n",
       "      <td>16.000000</td>\n",
       "      <td>606.000000</td>\n",
       "      <td>21.200000</td>\n",
       "      <td>-81.200000</td>\n",
       "      <td>50.000000</td>\n",
       "      <td>0.000000</td>\n",
       "      <td>1.029563</td>\n",
       "    </tr>\n",
       "    <tr>\n",
       "      <th>75%</th>\n",
       "      <td>44421.250000</td>\n",
       "      <td>1991.000000</td>\n",
       "      <td>9.000000</td>\n",
       "      <td>23.000000</td>\n",
       "      <td>920.000000</td>\n",
       "      <td>29.600000</td>\n",
       "      <td>-62.200000</td>\n",
       "      <td>70.000000</td>\n",
       "      <td>990.000000</td>\n",
       "      <td>1.431782</td>\n",
       "    </tr>\n",
       "    <tr>\n",
       "      <th>max</th>\n",
       "      <td>59228.000000</td>\n",
       "      <td>2008.000000</td>\n",
       "      <td>12.000000</td>\n",
       "      <td>31.000000</td>\n",
       "      <td>1410.000000</td>\n",
       "      <td>69.000000</td>\n",
       "      <td>180.000000</td>\n",
       "      <td>165.000000</td>\n",
       "      <td>1024.000000</td>\n",
       "      <td>11.180340</td>\n",
       "    </tr>\n",
       "  </tbody>\n",
       "</table>\n",
       "</div>"
      ],
      "text/plain": [
       "                FID          YEAR         MONTH           DAY          BTID  \\\n",
       "count  59228.000000  59228.000000  59228.000000  59228.000000  59228.000000   \n",
       "mean   29614.500000   1957.194874      8.540521     15.867326    648.398899   \n",
       "std    17097.795209     41.665792      1.364174      8.793432    372.376803   \n",
       "min        1.000000   1851.000000      1.000000      1.000000      1.000000   \n",
       "25%    14807.750000   1928.000000      8.000000      8.000000    344.000000   \n",
       "50%    29614.500000   1970.000000      9.000000     16.000000    606.000000   \n",
       "75%    44421.250000   1991.000000      9.000000     23.000000    920.000000   \n",
       "max    59228.000000   2008.000000     12.000000     31.000000   1410.000000   \n",
       "\n",
       "                LAT          LONG      WIND_KTS      PRESSURE    Shape_Leng  \n",
       "count  59228.000000  59228.000000  59228.000000  59228.000000  59228.000000  \n",
       "mean      23.526400    -83.196863     54.726802    372.336800      1.201987  \n",
       "std        9.464955     37.282152     25.133577    480.562974      0.834497  \n",
       "min        4.200000   -180.000000     10.000000      0.000000      0.000000  \n",
       "25%       16.100000   -108.500000     35.000000      0.000000      0.707107  \n",
       "50%       21.200000    -81.200000     50.000000      0.000000      1.029563  \n",
       "75%       29.600000    -62.200000     70.000000    990.000000      1.431782  \n",
       "max       69.000000    180.000000    165.000000   1024.000000     11.180340  "
      ]
     },
     "execution_count": 5,
     "metadata": {},
     "output_type": "execute_result"
    }
   ],
   "source": [
    "df.describe()"
   ]
  },
  {
   "cell_type": "markdown",
   "metadata": {},
   "source": [
    "##### We can infer most of these values through inspection of the min and max values in df.describe(). We could then produce a table "
   ]
  },
  {
   "cell_type": "code",
   "execution_count": 29,
   "metadata": {},
   "outputs": [
    {
     "data": {
      "text/plain": [
       "2"
      ]
     },
     "execution_count": 29,
     "metadata": {},
     "output_type": "execute_result"
    }
   ],
   "source": [
    "df['CAT'].str.len().max()"
   ]
  },
  {
   "cell_type": "code",
   "execution_count": 28,
   "metadata": {},
   "outputs": [
    {
     "data": {
      "text/plain": [
       "15"
      ]
     },
     "execution_count": 28,
     "metadata": {},
     "output_type": "execute_result"
    }
   ],
   "source": [
    "df['BASIN'].str.len().max()"
   ]
  },
  {
   "cell_type": "markdown",
   "metadata": {},
   "source": [
    "This means that these columns are maximum 15 and 2 characters long. Out table will end looking like"
   ]
  },
  {
   "cell_type": "markdown",
   "metadata": {},
   "source": [
    "#### Clean missing values"
   ]
  },
  {
   "cell_type": "code",
   "execution_count": 30,
   "metadata": {},
   "outputs": [
    {
     "data": {
      "text/plain": [
       "FID           0\n",
       "YEAR          0\n",
       "MONTH         0\n",
       "DAY           0\n",
       "AD_TIME       0\n",
       "BTID          0\n",
       "NAME          0\n",
       "LAT           0\n",
       "LONG          0\n",
       "WIND_KTS      0\n",
       "PRESSURE      0\n",
       "CAT           0\n",
       "BASIN         0\n",
       "Shape_Leng    0\n",
       "dtype: int64"
      ]
     },
     "execution_count": 30,
     "metadata": {},
     "output_type": "execute_result"
    }
   ],
   "source": [
    "# total na numbers\n",
    "df.isna().sum()"
   ]
  },
  {
   "cell_type": "code",
   "execution_count": 31,
   "metadata": {},
   "outputs": [
    {
     "data": {
      "text/plain": [
       "FID           0\n",
       "YEAR          0\n",
       "MONTH         0\n",
       "DAY           0\n",
       "AD_TIME       0\n",
       "BTID          0\n",
       "NAME          0\n",
       "LAT           0\n",
       "LONG          0\n",
       "WIND_KTS      0\n",
       "PRESSURE      0\n",
       "CAT           0\n",
       "BASIN         0\n",
       "Shape_Leng    0\n",
       "dtype: int64"
      ]
     },
     "execution_count": 31,
     "metadata": {},
     "output_type": "execute_result"
    }
   ],
   "source": [
    "df.isnull().sum()"
   ]
  },
  {
   "cell_type": "markdown",
   "metadata": {},
   "source": [
    "AD_TIME from the current format to a valid datetime"
   ]
  },
  {
   "cell_type": "code",
   "execution_count": 32,
   "metadata": {},
   "outputs": [
    {
     "data": {
      "text/plain": [
       "0    1800Z\n",
       "1    1200Z\n",
       "2    0600Z\n",
       "3    0600Z\n",
       "4    1200Z\n",
       "Name: AD_TIME, dtype: object"
      ]
     },
     "execution_count": 32,
     "metadata": {},
     "output_type": "execute_result"
    }
   ],
   "source": [
    "df['AD_TIME'].head()"
   ]
  },
  {
   "cell_type": "code",
   "execution_count": 34,
   "metadata": {},
   "outputs": [
    {
     "data": {
      "text/plain": [
       "0    195708081800Z\n",
       "1    196110031200Z\n",
       "2    196208290600Z\n",
       "3    196707140600Z\n",
       "4    197208161200Z\n",
       "Name: TIMESTAMP, dtype: object"
      ]
     },
     "execution_count": 34,
     "metadata": {},
     "output_type": "execute_result"
    }
   ],
   "source": [
    "df['TIMESTAMP'] = df['YEAR'].astype(str) + \\\n",
    "                  df['MONTH'].astype(str).str.zfill(2) + \\\n",
    "                  df['DAY'].astype(str).str.zfill(2) + \\\n",
    "                  df['AD_TIME']\n",
    "df['TIMESTAMP'].head()"
   ]
  },
  {
   "cell_type": "code",
   "execution_count": 35,
   "metadata": {},
   "outputs": [],
   "source": [
    "df['TIMESTAMP'] = pd.to_datetime(df['TIMESTAMP'], format='%Y%m%d%H%MZ', utc=True)"
   ]
  },
  {
   "cell_type": "code",
   "execution_count": 36,
   "metadata": {},
   "outputs": [
    {
     "data": {
      "text/plain": [
       "0   1957-08-08 18:00:00+00:00\n",
       "1   1961-10-03 12:00:00+00:00\n",
       "2   1962-08-29 06:00:00+00:00\n",
       "3   1967-07-14 06:00:00+00:00\n",
       "4   1972-08-16 12:00:00+00:00\n",
       "Name: TIMESTAMP, dtype: datetime64[ns, UTC]"
      ]
     },
     "execution_count": 36,
     "metadata": {},
     "output_type": "execute_result"
    }
   ],
   "source": [
    "df['TIMESTAMP'].head()"
   ]
  },
  {
   "cell_type": "code",
   "execution_count": 37,
   "metadata": {},
   "outputs": [
    {
     "data": {
      "text/html": [
       "<div>\n",
       "<style scoped>\n",
       "    .dataframe tbody tr th:only-of-type {\n",
       "        vertical-align: middle;\n",
       "    }\n",
       "\n",
       "    .dataframe tbody tr th {\n",
       "        vertical-align: top;\n",
       "    }\n",
       "\n",
       "    .dataframe thead th {\n",
       "        text-align: right;\n",
       "    }\n",
       "</style>\n",
       "<table border=\"1\" class=\"dataframe\">\n",
       "  <thead>\n",
       "    <tr style=\"text-align: right;\">\n",
       "      <th></th>\n",
       "      <th>FID</th>\n",
       "      <th>BTID</th>\n",
       "      <th>NAME</th>\n",
       "      <th>LAT</th>\n",
       "      <th>LONG</th>\n",
       "      <th>WIND_KTS</th>\n",
       "      <th>PRESSURE</th>\n",
       "      <th>CAT</th>\n",
       "      <th>BASIN</th>\n",
       "      <th>Shape_Leng</th>\n",
       "      <th>TIMESTAMP</th>\n",
       "    </tr>\n",
       "  </thead>\n",
       "  <tbody>\n",
       "    <tr>\n",
       "      <th>0</th>\n",
       "      <td>2001</td>\n",
       "      <td>63</td>\n",
       "      <td>NOTNAMED</td>\n",
       "      <td>22.5</td>\n",
       "      <td>-140.0</td>\n",
       "      <td>50</td>\n",
       "      <td>0</td>\n",
       "      <td>TS</td>\n",
       "      <td>Eastern Pacific</td>\n",
       "      <td>1.140175</td>\n",
       "      <td>1957-08-08 18:00:00+00:00</td>\n",
       "    </tr>\n",
       "    <tr>\n",
       "      <th>1</th>\n",
       "      <td>2002</td>\n",
       "      <td>116</td>\n",
       "      <td>PAULINE</td>\n",
       "      <td>22.1</td>\n",
       "      <td>-140.2</td>\n",
       "      <td>45</td>\n",
       "      <td>0</td>\n",
       "      <td>TS</td>\n",
       "      <td>Eastern Pacific</td>\n",
       "      <td>1.166190</td>\n",
       "      <td>1961-10-03 12:00:00+00:00</td>\n",
       "    </tr>\n",
       "    <tr>\n",
       "      <th>2</th>\n",
       "      <td>2003</td>\n",
       "      <td>124</td>\n",
       "      <td>C</td>\n",
       "      <td>18.0</td>\n",
       "      <td>-140.0</td>\n",
       "      <td>45</td>\n",
       "      <td>0</td>\n",
       "      <td>TS</td>\n",
       "      <td>Eastern Pacific</td>\n",
       "      <td>2.102380</td>\n",
       "      <td>1962-08-29 06:00:00+00:00</td>\n",
       "    </tr>\n",
       "    <tr>\n",
       "      <th>3</th>\n",
       "      <td>2004</td>\n",
       "      <td>168</td>\n",
       "      <td>DENISE</td>\n",
       "      <td>16.6</td>\n",
       "      <td>-139.5</td>\n",
       "      <td>45</td>\n",
       "      <td>0</td>\n",
       "      <td>TS</td>\n",
       "      <td>Eastern Pacific</td>\n",
       "      <td>2.121320</td>\n",
       "      <td>1967-07-14 06:00:00+00:00</td>\n",
       "    </tr>\n",
       "    <tr>\n",
       "      <th>4</th>\n",
       "      <td>2005</td>\n",
       "      <td>251</td>\n",
       "      <td>DIANA</td>\n",
       "      <td>18.5</td>\n",
       "      <td>-139.8</td>\n",
       "      <td>70</td>\n",
       "      <td>0</td>\n",
       "      <td>H1</td>\n",
       "      <td>Eastern Pacific</td>\n",
       "      <td>1.702939</td>\n",
       "      <td>1972-08-16 12:00:00+00:00</td>\n",
       "    </tr>\n",
       "  </tbody>\n",
       "</table>\n",
       "</div>"
      ],
      "text/plain": [
       "    FID  BTID      NAME   LAT   LONG  WIND_KTS  PRESSURE CAT            BASIN  \\\n",
       "0  2001    63  NOTNAMED  22.5 -140.0        50         0  TS  Eastern Pacific   \n",
       "1  2002   116   PAULINE  22.1 -140.2        45         0  TS  Eastern Pacific   \n",
       "2  2003   124         C  18.0 -140.0        45         0  TS  Eastern Pacific   \n",
       "3  2004   168    DENISE  16.6 -139.5        45         0  TS  Eastern Pacific   \n",
       "4  2005   251     DIANA  18.5 -139.8        70         0  H1  Eastern Pacific   \n",
       "\n",
       "   Shape_Leng                 TIMESTAMP  \n",
       "0    1.140175 1957-08-08 18:00:00+00:00  \n",
       "1    1.166190 1961-10-03 12:00:00+00:00  \n",
       "2    2.102380 1962-08-29 06:00:00+00:00  \n",
       "3    2.121320 1967-07-14 06:00:00+00:00  \n",
       "4    1.702939 1972-08-16 12:00:00+00:00  "
      ]
     },
     "execution_count": 37,
     "metadata": {},
     "output_type": "execute_result"
    }
   ],
   "source": [
    "df = df.drop(['YEAR','MONTH','DAY','AD_TIME'], axis=1)\n",
    "df.head()"
   ]
  },
  {
   "cell_type": "code",
   "execution_count": 41,
   "metadata": {},
   "outputs": [
    {
     "data": {
      "text/plain": [
       "array([10,  1,  9,  3,  2,  6,  4,  5,  0, 11,  8,  7], dtype=int64)"
      ]
     },
     "execution_count": 41,
     "metadata": {},
     "output_type": "execute_result"
    }
   ],
   "source": [
    "df['BASIN'].astype('category').cat.codes.unique()\n",
    "df['CAT'].astype('category').cat.codes.unique()"
   ]
  },
  {
   "cell_type": "code",
   "execution_count": 44,
   "metadata": {},
   "outputs": [],
   "source": [
    "df.columns = df.columns.str.upper()"
   ]
  },
  {
   "cell_type": "code",
   "execution_count": 45,
   "metadata": {},
   "outputs": [
    {
     "data": {
      "text/html": [
       "<div>\n",
       "<style scoped>\n",
       "    .dataframe tbody tr th:only-of-type {\n",
       "        vertical-align: middle;\n",
       "    }\n",
       "\n",
       "    .dataframe tbody tr th {\n",
       "        vertical-align: top;\n",
       "    }\n",
       "\n",
       "    .dataframe thead th {\n",
       "        text-align: right;\n",
       "    }\n",
       "</style>\n",
       "<table border=\"1\" class=\"dataframe\">\n",
       "  <thead>\n",
       "    <tr style=\"text-align: right;\">\n",
       "      <th></th>\n",
       "      <th>TIMESTAMP</th>\n",
       "      <th>BTID</th>\n",
       "      <th>NAME</th>\n",
       "      <th>LAT</th>\n",
       "      <th>LONG</th>\n",
       "      <th>WIND_KTS</th>\n",
       "      <th>PRESSURE</th>\n",
       "      <th>CAT</th>\n",
       "      <th>BASIN</th>\n",
       "      <th>SHAPE_LENG</th>\n",
       "    </tr>\n",
       "    <tr>\n",
       "      <th>FID</th>\n",
       "      <th></th>\n",
       "      <th></th>\n",
       "      <th></th>\n",
       "      <th></th>\n",
       "      <th></th>\n",
       "      <th></th>\n",
       "      <th></th>\n",
       "      <th></th>\n",
       "      <th></th>\n",
       "      <th></th>\n",
       "    </tr>\n",
       "  </thead>\n",
       "  <tbody>\n",
       "    <tr>\n",
       "      <th>2001</th>\n",
       "      <td>1957-08-08 18:00:00+00:00</td>\n",
       "      <td>63</td>\n",
       "      <td>NOTNAMED</td>\n",
       "      <td>22.5</td>\n",
       "      <td>-140.0</td>\n",
       "      <td>50</td>\n",
       "      <td>0</td>\n",
       "      <td>TS</td>\n",
       "      <td>Eastern Pacific</td>\n",
       "      <td>1.140175</td>\n",
       "    </tr>\n",
       "    <tr>\n",
       "      <th>2002</th>\n",
       "      <td>1961-10-03 12:00:00+00:00</td>\n",
       "      <td>116</td>\n",
       "      <td>PAULINE</td>\n",
       "      <td>22.1</td>\n",
       "      <td>-140.2</td>\n",
       "      <td>45</td>\n",
       "      <td>0</td>\n",
       "      <td>TS</td>\n",
       "      <td>Eastern Pacific</td>\n",
       "      <td>1.166190</td>\n",
       "    </tr>\n",
       "    <tr>\n",
       "      <th>2003</th>\n",
       "      <td>1962-08-29 06:00:00+00:00</td>\n",
       "      <td>124</td>\n",
       "      <td>C</td>\n",
       "      <td>18.0</td>\n",
       "      <td>-140.0</td>\n",
       "      <td>45</td>\n",
       "      <td>0</td>\n",
       "      <td>TS</td>\n",
       "      <td>Eastern Pacific</td>\n",
       "      <td>2.102380</td>\n",
       "    </tr>\n",
       "    <tr>\n",
       "      <th>2004</th>\n",
       "      <td>1967-07-14 06:00:00+00:00</td>\n",
       "      <td>168</td>\n",
       "      <td>DENISE</td>\n",
       "      <td>16.6</td>\n",
       "      <td>-139.5</td>\n",
       "      <td>45</td>\n",
       "      <td>0</td>\n",
       "      <td>TS</td>\n",
       "      <td>Eastern Pacific</td>\n",
       "      <td>2.121320</td>\n",
       "    </tr>\n",
       "    <tr>\n",
       "      <th>2005</th>\n",
       "      <td>1972-08-16 12:00:00+00:00</td>\n",
       "      <td>251</td>\n",
       "      <td>DIANA</td>\n",
       "      <td>18.5</td>\n",
       "      <td>-139.8</td>\n",
       "      <td>70</td>\n",
       "      <td>0</td>\n",
       "      <td>H1</td>\n",
       "      <td>Eastern Pacific</td>\n",
       "      <td>1.702939</td>\n",
       "    </tr>\n",
       "  </tbody>\n",
       "</table>\n",
       "</div>"
      ],
      "text/plain": [
       "                     TIMESTAMP  BTID      NAME   LAT   LONG  WIND_KTS  \\\n",
       "FID                                                                     \n",
       "2001 1957-08-08 18:00:00+00:00    63  NOTNAMED  22.5 -140.0        50   \n",
       "2002 1961-10-03 12:00:00+00:00   116   PAULINE  22.1 -140.2        45   \n",
       "2003 1962-08-29 06:00:00+00:00   124         C  18.0 -140.0        45   \n",
       "2004 1967-07-14 06:00:00+00:00   168    DENISE  16.6 -139.5        45   \n",
       "2005 1972-08-16 12:00:00+00:00   251     DIANA  18.5 -139.8        70   \n",
       "\n",
       "      PRESSURE CAT            BASIN  SHAPE_LENG  \n",
       "FID                                              \n",
       "2001         0  TS  Eastern Pacific    1.140175  \n",
       "2002         0  TS  Eastern Pacific    1.166190  \n",
       "2003         0  TS  Eastern Pacific    2.102380  \n",
       "2004         0  TS  Eastern Pacific    2.121320  \n",
       "2005         0  H1  Eastern Pacific    1.702939  "
      ]
     },
     "execution_count": 45,
     "metadata": {},
     "output_type": "execute_result"
    }
   ],
   "source": [
    "# we rearrange our columns and reset the dataframe's index\n",
    "df_csv = df[['FID', 'TIMESTAMP', 'BTID', 'NAME', 'LAT', 'LONG', 'WIND_KTS', 'PRESSURE', 'CAT', 'BASIN', 'SHAPE_LENG']].copy()\n",
    "df_csv = df_csv.set_index('FID', drop=True)\n",
    "df_csv.head()"
   ]
  },
  {
   "cell_type": "code",
   "execution_count": 48,
   "metadata": {},
   "outputs": [],
   "source": [
    "df_csv.to_csv(path_or_buf='DataSet/cleaned_storm_data.csv', sep=';')"
   ]
  },
  {
   "cell_type": "markdown",
   "metadata": {},
   "source": [
    "## Creating the table with SQL"
   ]
  },
  {
   "cell_type": "code",
   "execution_count": 26,
   "metadata": {},
   "outputs": [
    {
     "name": "stdout",
     "output_type": "stream",
     "text": [
      "{'user': 'postgres', 'dbname': 'med_rpr_stg', 'host': 'localhost', 'port': '5432', 'tty': '', 'options': '', 'sslmode': 'prefer', 'sslcompression': '0', 'krbsrvname': 'postgres', 'target_session_attrs': 'any'} \n",
      "\n"
     ]
    }
   ],
   "source": [
    "import psycopg2\n",
    "connection = psycopg2.connect(user = \"postgres\",\n",
    "                                  password = \"12345\",\n",
    "                                  host = \"localhost\",\n",
    "                                  database = \"med_rpr_stg\")\n",
    "cursor = connection.cursor()\n",
    "# Print PostgreSQL Connection properties\n",
    "print ( connection.get_dsn_parameters(),\"\\n\")"
   ]
  },
  {
   "cell_type": "code",
   "execution_count": 38,
   "metadata": {},
   "outputs": [],
   "source": [
    "# Print PostgreSQL version\n",
    "\n",
    "\n",
    "CREATE_TABLE_SQL =\"\"\"\n",
    "CREATE TABLE hurricanes (\n",
    "    fid INT PRIMARY KEY,\n",
    "    timestamp TIMESTAMP WITH TIME ZONE,\n",
    "    btid SMALLINT,\n",
    "    name VARCHAR,\n",
    "    lat DECIMAL(8,6),\n",
    "    long DECIMAL(9,6),\n",
    "    wind_kts SMALLINT,\n",
    "    pressure SMALLINT,\n",
    "    cat VARCHAR(2),\n",
    "    basin VARCHAR(16),\n",
    "    shape_length DECIMAL(8, 6)\n",
    "    )\n",
    "\"\"\"\n",
    "\n",
    "\n",
    "select_Business_1 = cursor.execute(CREATE_TABLE_SQL)\n",
    "\n",
    "connection.commit()"
   ]
  },
  {
   "cell_type": "markdown",
   "metadata": {},
   "source": [
    "### Insert the data in the database"
   ]
  },
  {
   "cell_type": "code",
   "execution_count": 51,
   "metadata": {},
   "outputs": [],
   "source": [
    "with open('DataSet/cleaned_storm_data.csv', 'r+') as f:\n",
    "    cursor.copy_expert(\"COPY hurricanes FROM STDIN WITH CSV HEADER DELIMITER ';'\", f)\n"
   ]
  },
  {
   "cell_type": "code",
   "execution_count": 52,
   "metadata": {},
   "outputs": [
    {
     "data": {
      "text/plain": [
       "[(2001,\n",
       "  datetime.datetime(1957, 8, 8, 23, 30, tzinfo=psycopg2.tz.FixedOffsetTimezone(offset=330, name=None)),\n",
       "  63,\n",
       "  'NOTNAMED',\n",
       "  Decimal('22.500000'),\n",
       "  Decimal('-140.000000'),\n",
       "  50,\n",
       "  0,\n",
       "  'TS',\n",
       "  'Eastern Pacific',\n",
       "  Decimal('1.140175'))]"
      ]
     },
     "execution_count": 52,
     "metadata": {},
     "output_type": "execute_result"
    }
   ],
   "source": [
    "cursor.execute('SELECT * FROM hurricanes LIMIT 1')\n",
    "cursor.fetchall()"
   ]
  },
  {
   "cell_type": "markdown",
   "metadata": {},
   "source": [
    "### Should be able to insert data"
   ]
  },
  {
   "cell_type": "code",
   "execution_count": 53,
   "metadata": {},
   "outputs": [],
   "source": [
    "cursor.execute('INSERT INTO hurricanes (fid) values (1000001)')\n",
    "connection.commit()"
   ]
  },
  {
   "cell_type": "markdown",
   "metadata": {},
   "source": [
    "### Read this new row from the table"
   ]
  },
  {
   "cell_type": "code",
   "execution_count": 54,
   "metadata": {},
   "outputs": [
    {
     "data": {
      "text/plain": [
       "[(1000001, None, None, None, None, None, None, None, None, None, None)]"
      ]
     },
     "execution_count": 54,
     "metadata": {},
     "output_type": "execute_result"
    }
   ],
   "source": [
    "# we can\n",
    "cursor.execute('SELECT * FROM hurricanes WHERE fid = 1000001')\n",
    "cursor.fetchall()"
   ]
  },
  {
   "cell_type": "code",
   "execution_count": 55,
   "metadata": {},
   "outputs": [],
   "source": [
    "cursor.execute(\"UPDATE hurricanes SET name = 'fakename' WHERE fid=1000001\")\n",
    "connection.commit()"
   ]
  },
  {
   "cell_type": "markdown",
   "metadata": {},
   "source": [
    "### Read the updated changes back"
   ]
  },
  {
   "cell_type": "code",
   "execution_count": 56,
   "metadata": {},
   "outputs": [
    {
     "data": {
      "text/plain": [
       "[(1000001, None, None, 'fakename', None, None, None, None, None, None, None)]"
      ]
     },
     "execution_count": 56,
     "metadata": {},
     "output_type": "execute_result"
    }
   ],
   "source": [
    "cursor.execute('SELECT * FROM hurricanes WHERE fid = 1000001')\n",
    "cursor.fetchall()"
   ]
  }
 ],
 "metadata": {
  "kernelspec": {
   "display_name": "Python 3",
   "language": "python",
   "name": "python3"
  },
  "language_info": {
   "codemirror_mode": {
    "name": "ipython",
    "version": 3
   },
   "file_extension": ".py",
   "mimetype": "text/x-python",
   "name": "python",
   "nbconvert_exporter": "python",
   "pygments_lexer": "ipython3",
   "version": "3.6.4"
  }
 },
 "nbformat": 4,
 "nbformat_minor": 2
}
